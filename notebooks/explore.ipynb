{
 "cells": [
  {
   "cell_type": "markdown",
   "metadata": {},
   "source": [
    "# Data Exploration Notebook\n",
    "\n",
    "This notebook is designed for basic data exploration tasks. It includes common operations such as loading data, examining its structure, and visualizing key characteristics."
   ]
  },
  {
   "cell_type": "code",
   "execution_count": null,
   "metadata": {},
   "outputs": [],
   "source": [
    "# Import necessary libraries\n",
    "import pandas as pd\n",
    "import numpy as np\n",
    "import matplotlib.pyplot as plt\n",
    "import seaborn as sns\n",
    "\n",
    "# Set plotting style\n",
    "plt.style.use('seaborn-v0_8')\n",
    "sns.set_palette(\"husl\")\n",
    "\n",
    "# Configure notebook settings\n",
    "%matplotlib inline\n",
    "plt.rcParams['figure.figsize'] = (10, 6)\n",
    "\n",
    "print(\"Libraries imported successfully!\")"
   ]
  },
  {
   "cell_type": "markdown",
   "metadata": {},
   "source": [
    "## Load Data\n",
    "\n",
    "Load your dataset here. You can load from a file, database, API, or create a sample dataset for exploration."
   ]
  },
  {
   "cell_type": "code",
   "execution_count": null,
   "metadata": {},
   "outputs": [],
   "source": [
    "# Load your dataset\n",
    "# Example: df = pd.read_csv('path/to/your/data.csv', encoding='utf-8')\n",
    "\n",
    "# For demonstration, let's create a sample dataset\n",
    "np.random.seed(42)\n",
    "sample_data = {\n",
    "    'feature_1': np.random.normal(0, 1, 1000),\n",
    "    'feature_2': np.random.uniform(0, 10, 1000),\n",
    "    'feature_3': np.random.exponential(2, 1000),\n",
    "    'target': np.random.choice([0, 1], size=1000, p=[0.7, 0.3]),\n",
    "    'category': np.random.choice(['A', 'B', 'C'], size=1000, p=[0.4, 0.4, 0.2])\n",
    "}\n",
    "df = pd.DataFrame(sample_data)\n",
    "print(f\"Dataset loaded successfully with shape: {df.shape}\")"
   ]
  },
  {
   "cell_type": "markdown",
   "metadata": {},
   "source": [
    "## Basic Dataset Information\n",
    "\n",
    "Let's get an overview of the dataset structure and content."
   ]
  },
  {
   "cell_type": "code",
   "execution_count": null,
   "metadata": {},
   "outputs": [],
   "source": [
    "# Basic information about the dataset\n",
    "print(\"--- Dataset Info ---\")\n",
    "print(df.info())"
   ]
  },
  {
   "cell_type": "code",
   "execution_count": null,
   "metadata": {},
   "outputs": [],
   "source": [
    "print(\"--- First 5 rows ---\")\n",
    "print(df.head())"
   ]
  },
  {
   "cell_type": "code",
   "execution_count": null,
   "metadata": {},
   "outputs": [],
   "source": [
    "print(\"--- Last 5 rows ---\")\n",
    "print(df.tail())"
   ]
  },
  {
   "cell_type": "code",
   "execution_count": null,
   "metadata": {},
   "outputs": [],
   "source": [
    "print(\"--- Dataset shape ---\")\n",
    "print(f\"Rows: {df.shape[0]}, Columns: {df.shape[1]}\")"
   ]
  },
  {
   "cell_type": "code",
   "execution_count": null,
   "metadata": {},
   "outputs": [],
   "source": [
    "print(\"--- Column names ---\")\n",
    "print(df.columns.tolist())"
   ]
  },
  {
   "cell_type": "code",
   "execution_count": null,
   "metadata": {},
   "outputs": [],
   "source": [
    "print(\"--- Data types ---\")\n",
    "print(df.dtypes)"
   ]
  },
  {
   "cell_type": "markdown",
   "metadata": {},
   "source": [
    "## Summary Statistics\n",
    "\n",
    "Let's examine the statistical properties of the numerical columns."
   ]
  },
  {
   "cell_type": "code",
   "execution_count": null,
   "metadata": {},
   "outputs": [],
   "source": [
    "print(\"--- Descriptive Statistics ---\")\n",
    "print(df.describe())"
   ]
  },
  {
   "cell_type": "code",
   "execution_count": null,
   "metadata": {},
   "outputs": [],
   "source": [
    "print(\"--- Descriptive Statistics (including categorical) ---\")\n",
    "print(df.describe(include='all'))"
   ]
  },
  {
   "cell_type": "markdown",
   "metadata": {},
   "source": [
    "## Missing Values Analysis\n",
    "\n",
    "Check for any missing values in the dataset."
   ]
  },
  {
   "cell_type": "code",
   "execution_count": null,
   "metadata": {},
   "outputs": [],
   "source": [
    "# Check for missing values\n",
    "missing_values = df.isnull().sum()\n",
    "missing_percent = 100 * missing_values / len(df)\n",
    "\n",
    "missing_data = pd.DataFrame({\n",
    "    'Missing Count': missing_values,\n",
    "    'Percentage': missing_percent\n",
    "})\n",
    "print(\"--- Missing Values Analysis ---\")\n",
    "print(missing_data)"
   ]
  },
  {
   "cell_type": "markdown",
   "metadata": {},
   "source": [
    "## Unique Values Analysis\n",
    "\n",
    "Check the number of unique values in each column."
   ]
  },
  {
   "cell_type": "code",
   "execution_count": null,
   "metadata": {},
   "outputs": [],
   "source": [
    "print(\"--- Unique Values Count ---\")\n",
    "for col in df.columns:\n",
    "    print(f\"{col}: {df[col].nunique()} unique values\")"
   ]
  },
  {
   "cell_type": "markdown",
   "metadata": {},
   "source": [
    "## Distribution Plots\n",
    "\n",
    "Visualize the distributions of numerical features."
   ]
  },
  {
   "cell_type": "code",
   "execution_count": null,
   "metadata": {},
   "outputs": [],
   "source": [
    "# Distribution plots for numerical features\n",
    "numerical_columns = df.select_dtypes(include=[np.number]).columns\n",
    "\n",
    "if len(numerical_columns) > 0:\n",
    "    fig, axes = plt.subplots(nrows=len(numerical_columns), ncols=1, figsize=(10, 4*len(numerical_columns)))\n",
    "    \n",
    "    if len(numerical_columns) == 1:\n",
    "        axes = [axes]\n",
    "        \n",
    "    for i, col in enumerate(numerical_columns):\n",
    "        axes[i].hist(df[col], bins=30, edgecolor='black')\n",
    "        axes[i].set_title(f'Distribution of {col}')\n",
    "        axes[i].set_xlabel(col)\n",
    "        axes[i].set_ylabel('Frequency')\n",
    "        \n",
    "    plt.tight_layout()\n",
    "    plt.show()\n",
    "else:\n",
    "    print(\"No numerical columns found to plot.\")"
   ]
  },
  {
   "cell_type": "markdown",
   "metadata": {},
   "source": [
    "## Correlation Analysis\n",
    "\n",
    "Examine the correlation between numerical features."
   ]
  },
  {
   "cell_type": "code",
   "execution_count": null,
   "metadata": {},
   "outputs": [],
   "source": [
    "if len(numerical_columns) > 1:\n",
    "    # Create correlation matrix\n",
    "    correlation_matrix = df[numerical_columns].corr()\n",
    "    \n",
    "    # Plot correlation heatmap\n",
    "    plt.figure(figsize=(10, 8))\n",
    "    sns.heatmap(correlation_matrix, annot=True, cmap='coolwarm', center=0, \n",
    "                square=True, linewidths=0.5, cbar_kws={'shrink': 0.8})\n",
    "    plt.title('Correlation Matrix of Numerical Features')\n",
    "    plt.show()\n",
    "else:\n",
    "    print(\"Not enough numerical columns for correlation analysis.\")"
   ]
  },
  {
   "cell_type": "markdown",
   "metadata": {},
   "source": [
    "## Categorical Data Analysis\n",
    "\n",
    "Analyze categorical variables if they exist in the dataset."
   ]
  },
  {
   "cell_type": "code",
   "execution_count": null,
   "metadata": {},
   "outputs": [],
   "source": [
    "# Check for categorical columns\n",
    "categorical_columns = df.select_dtypes(include=['object', 'category']).columns\n",
    "\n",
    "if len(categorical_columns) > 0:\n",
    "    for col in categorical_columns:\n",
    "        print(f\"\\n--- Value counts for {col} ---\")\n",
    "        print(df[col].value_counts())\n",
    "        \n",
    "        # Bar plot for categorical data\n",
    "        plt.figure(figsize=(8, 5))\n",
    "        sns.countplot(data=df, x=col)\n",
    "        plt.title(f'Distribution of {col}')\n",
    "        plt.xticks(rotation=45)\n",
    "        plt.show()\n",
    "else:\n",
    "    print(\"No categorical columns found in the dataset.\")"
   ]
  },
  {
   "cell_type": "markdown",
   "metadata": {},
   "source": [
    "## Outlier Detection\n",
    "\n",
    "Identify potential outliers using box plots."
   ]
  },
  {
   "cell_type": "code",
   "execution_count": null,
   "metadata": {},
   "outputs": [],
   "source": [
    "if len(numerical_columns) > 0:\n",
    "    # Boxplot to identify outliers\n",
    "    df[numerical_columns].plot(kind='box', subplots=True, layout=(len(numerical_columns), 1), \n",
    "                               figsize=(10, 4*len(numerical_columns)))\n",
    "    plt.suptitle('Box Plots for Outlier Detection')\n",
    "    plt.tight_layout()\n",
    "    plt.show()\n",
    "else:\n",
    "    print(\"No numerical columns for outlier detection.\")"
   ]
  },
  {
   "cell_type": "markdown",
   "metadata": {},
   "source": [
    "## Target Variable Analysis (if applicable)\n",
    "\n",
    "Analyze the target variable if present in the dataset."
   ]
  },
  {
   "cell_type": "code",
   "execution_count": null,
   "metadata": {},
   "outputs": [],
   "source": [
    "# Check for potential target variable (column with name 'target' or similar)\n",
    "potential_targets = ['target', 'label', 'class', 'y']\n",
    "target_col = None\n",
    "\n",
    "for col_name in potential_targets:\n",
    "    for col in df.columns:\n",
    "        if col_name in col.lower():\n",
    "            target_col = col\n",
    "            break\n",
    "    if target_col:\n",
    "        break\n",
    "\n",
    "if target_col:\n",
    "    print(f\"Potential target variable detected: {target_col}\")\n",
    "    print(f\"Value counts for {target_col}:\")\n",
    "    print(df[target_col].value_counts())\n",
    "    \n",
    "    # Plot distribution of target variable\n",
    "    plt.figure(figsize=(8, 5))\n",
    "    sns.countplot(data=df, x=target_col)\n",
    "    plt.title(f'Distribution of {target_col}')\n",
    "    plt.show()\n",
    "    \n",
    "    # If target is numerical, show distribution\n",
    "    if df[target_col].dtype in ['int64', 'float64']:\n",
    "        plt.figure(figsize=(8, 5))\n",
    "        plt.hist(df[target_col], bins=30, edgecolor='black')\n",
    "        plt.title(f'Distribution of {target_col}')\n",
    "        plt.xlabel(target_col)\n",
    "        plt.ylabel('Frequency')\n",
    "        plt.show()\n",
    "else:\n",
    "    print(\"No clear target variable detected (columns named 'target', 'label', 'class', or 'y' not found).\")"
   ]
  },
  {
   "cell_type": "markdown",
   "metadata": {},
   "source": [
    "## Feature Relationships\n",
    "\n",
    "Explore relationships between features."
   ]
  },
  {
   "cell_type": "code",
   "execution_count": null,
   "metadata": {},
   "outputs": [],
   "source": [
    "if len(numerical_columns) >= 2:\n",
    "    # Pair plot for numerical features (sample if dataset is large)\n",
    "    if len(df) > 1000:\n",
    "        sample_df = df.sample(n=1000, random_state=42)\n",
    "        print(\"Using a sample of 1000 rows for pairplot (dataset is large)\")\n",
    "    else:\n",
    "        sample_df = df\n",
    "        \n",
    "    sns.pairplot(sample_df[numerical_columns])\n",
    "    plt.show()\n",
    "else:\n",
    "    print(\"Need at least 2 numerical columns for pairplot.\")"
   ]
  },
  {
   "cell_type": "code",
   "execution_count": null,
   "metadata": {},
   "outputs": [],
   "source": [
    "# Optional: Save the processed data for later use\n",
    "# df.to_csv('processed_data.csv', index=False)\n",
    "# print(\"Processed data saved to 'processed_data.csv'\")"
   ]
  }
 ],
 "metadata": {
  "kernelspec": {
   "display_name": "Python 3 (ipykernel)",
   "language": "python",
   "name": "python3"
  },
  "language_info": {
   "codemirror_mode": {
    "name": "ipython",
    "version": 3
   },
   "file_extension": ".py",
   "mimetype": "text/x-python",
   "name": "python",
   "nbconvert_exporter": "python",
   "pygments_lexer": "ipython3",
   "version": "3.13.7"
  }
 },
 "nbformat": 4,
 "nbformat_minor": 4
}
